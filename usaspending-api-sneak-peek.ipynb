{
 "cells": [
  {
   "cell_type": "markdown",
   "metadata": {
    "deletable": true,
    "editable": true,
    "slideshow": {
     "slide_type": "slide"
    }
   },
   "source": [
    "# Federal Spending API Sneak Peak\n",
    "\n",
    "\n",
    "Becky Sweger  \n",
    "rebecca.sweger@gsa.gov  \n",
    "@bendystraw"
   ]
  },
  {
   "cell_type": "markdown",
   "metadata": {
    "deletable": true,
    "editable": true,
    "slideshow": {
     "slide_type": "slide"
    }
   },
   "source": [
    "# $4,000,000,000,000"
   ]
  },
  {
   "cell_type": "markdown",
   "metadata": {
    "deletable": true,
    "editable": true,
    "slideshow": {
     "slide_type": "slide"
    }
   },
   "source": [
    "![U.S. Federal Spending Lifecycle](img/federal-spending-lifecycle.png)"
   ]
  },
  {
   "cell_type": "markdown",
   "metadata": {
    "deletable": true,
    "editable": true,
    "slideshow": {
     "slide_type": "slide"
    }
   },
   "source": [
    "# Spending Lifecycle as API Endpoints\n",
    "\n",
    "* **[Accounts](https://spending-api.us/api/v1/accounts/?limit=2)**: Track money related to specific pool of funding allocated by Congress\n",
    "* **[Awards](https://spending-api.us/api/v1/awards/?limit=2)**: Grants, contracts, payments to individuals, loans\n",
    "* **[Transactions](https://spending-api.us/api/v1/transactions/?limit=2)**: Spending-related action against a specific award"
   ]
  },
  {
   "cell_type": "markdown",
   "metadata": {
    "deletable": true,
    "editable": true,
    "slideshow": {
     "slide_type": "slide"
    }
   },
   "source": [
    "![USAspending prototype API](img/usaspending-api-with-link.png)"
   ]
  },
  {
   "cell_type": "markdown",
   "metadata": {
    "deletable": true,
    "editable": true,
    "slideshow": {
     "slide_type": "slide"
    }
   },
   "source": [
    "# Complex Filters\n",
    "\n",
    "Find awards where the FAIN is NOT NULL where the recipient was located in SD, FL, TX, VA or the awarding agency was the Small Business Administration.\n",
    "\n",
    "```json\n",
    "{\n",
    "    \"page\": 1,\n",
    "    \"limit\": 2,\n",
    "    \"order\": [\"id\"],\n",
    "    \"filters\": [\n",
    "        { \n",
    "            \"field\": \"fain\",\n",
    "            \"operation\": \"is_null\",\n",
    "            \"value\": false\n",
    "        },\n",
    "        {\n",
    "            \"combine_method\": \"OR\",\n",
    "            \"filters\": [\n",
    "                {\n",
    "                    \"field\": \"recipient__location__location_state_code\",\n",
    "                    \"operation\": \"in\",\n",
    "                    \"value\": [\"SD\", \"FL\", \"TX\", \"VA\"]\n",
    "                },\n",
    "                {\n",
    "                    \"field\": \"awarding_agency__toptier_agency__name\",\n",
    "                    \"operation\": \"equals\",\n",
    "                    \"value\": \"SMALL BUSINESS ADMINISTRATION\"\n",
    "                }\n",
    "            ]\n",
    "        }\n",
    "        ]\n",
    "}\n",
    "```"
   ]
  },
  {
   "cell_type": "code",
   "execution_count": null,
   "metadata": {
    "collapsed": true,
    "slideshow": {
     "slide_type": "slide"
    }
   },
   "outputs": [],
   "source": []
  },
  {
   "cell_type": "markdown",
   "metadata": {
    "deletable": true,
    "editable": true,
    "slideshow": {
     "slide_type": "slide"
    }
   },
   "source": [
    "# Aggregate Filters\n",
    "\n",
    "For transactions of type A, B, C, or D, sum transaction obligated amounts by action date year. Order the result by year.\n",
    "\n",
    "\n",
    "```json\n",
    "{\n",
    "    \"field\": \"federal_action_obligation\",\n",
    "    \"group\": \"action_date\",\n",
    "    \"date_part\": \"year\",\n",
    "    \"aggregate\": \"sum\",\n",
    "    \"order\": [\"item\"],\n",
    "    \"filters\": [\n",
    "        { \n",
    "            \"field\": \"type\",\n",
    "            \"operation\": \"in\",\n",
    "            \"value\": [\"A\", \"B\", \"C\", \"D\"]\n",
    "        }\n",
    "     ]\n",
    "}\n",
    "```"
   ]
  },
  {
   "cell_type": "markdown",
   "metadata": {
    "deletable": true,
    "editable": true,
    "slideshow": {
     "slide_type": "slide"
    }
   },
   "source": [
    "# https://spending-api.us/"
   ]
  },
  {
   "cell_type": "markdown",
   "metadata": {
    "deletable": true,
    "editable": true,
    "slideshow": {
     "slide_type": "slide"
    }
   },
   "source": [
    "![USAspending prototype](img/new-usaspending.png)"
   ]
  },
  {
   "cell_type": "markdown",
   "metadata": {
    "deletable": true,
    "editable": true,
    "slideshow": {
     "slide_type": "slide"
    }
   },
   "source": [
    "# Help Wanted\n",
    "\n",
    "* First iteration of new USASpending and API drops in May\n",
    "* Best time to give feedback is now, while we're building\n",
    "* [Self-schedule a 30-45 minute session with our research team](https://airtable.com/shr2ZnMomznkSCYho#04): http://bit.ly/2bUh0rC"
   ]
  },
  {
   "cell_type": "markdown",
   "metadata": {
    "collapsed": true,
    "deletable": true,
    "editable": true,
    "slideshow": {
     "slide_type": "slide"
    }
   },
   "source": [
    "# Links\n",
    "\n",
    "\n",
    "* [USAspending API](https://spending-api.us/): Treasury's prototype DATA Act API\n",
    "\n",
    "* [Federal Spending Transparency Collaboration Space](http://fedspendingtransparency.github.io/): DATA Act and schema information\n",
    "\n",
    "* [USAspending Open Beta](https://openbeta.usaspending.gov/index.html): USAspending website concepts\n",
    "\n",
    "* [USAspending Sprint Board](): Current and upcoming work"
   ]
  },
  {
   "cell_type": "markdown",
   "metadata": {
    "deletable": true,
    "editable": true,
    "slideshow": {
     "slide_type": "slide"
    }
   },
   "source": [
    "# Sources\n",
    "\n",
    "* [Financial Report of the United States Government, Citizens Guide](https://www.fiscal.treasury.gov/fsreports/rpt/finrep/fr/16frusg/CitizensGuide_2016.pdf)\n",
    "* Federal Spending Lifescyle image via [Fedscoop](https://www.fedscoop.com/the-data-act-make-following-the-money-worth-it/)\n"
   ]
  },
  {
   "cell_type": "markdown",
   "metadata": {
    "deletable": true,
    "editable": true,
    "slideshow": {
     "slide_type": "slide"
    }
   },
   "source": [
    "# Thank You!\n",
    "\n",
    "rebecca.sweger@gsa.gov  \n",
    "@bendystraw"
   ]
  }
 ],
 "metadata": {
  "celltoolbar": "Slideshow",
  "kernelspec": {
   "display_name": "Python 3",
   "language": "python",
   "name": "python3"
  },
  "language_info": {
   "codemirror_mode": {
    "name": "ipython",
    "version": 3
   },
   "file_extension": ".py",
   "mimetype": "text/x-python",
   "name": "python",
   "nbconvert_exporter": "python",
   "pygments_lexer": "ipython3",
   "version": "3.5.2"
  }
 },
 "nbformat": 4,
 "nbformat_minor": 2
}
